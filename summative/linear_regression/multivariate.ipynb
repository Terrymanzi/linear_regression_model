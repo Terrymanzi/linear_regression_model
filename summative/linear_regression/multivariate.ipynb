{
  "nbformat": 4,
  "nbformat_minor": 0,
  "metadata": {
    "colab": {
      "provenance": []
    },
    "kernelspec": {
      "name": "python3",
      "display_name": "Python 3"
    },
    "language_info": {
      "name": "python"
    }
  },
  "cells": [
    {
      "cell_type": "markdown",
      "source": [
        "Load & Clean Dataset"
      ],
      "metadata": {
        "id": "lZGIMo0Mg8Qw"
      }
    },
    {
      "cell_type": "code",
      "source": [
        "import pandas as pd\n",
        "\n",
        "# Load CSV\n",
        "raw_df = pd.read_csv('Africa_Quantity.csv')\n",
        "\n",
        "# Drop all 'S_YYYY' columns\n",
        "clean_df = raw_df[[col for col in raw_df.columns if not col.startswith('S_')]]\n",
        "\n",
        "# Rename for clarity\n",
        "clean_df.rename(columns={'Land Area': 'Country'}, inplace=True)\n",
        "\n",
        "# Melt to long format\n",
        "year_cols = [str(y) for y in range(2000, 2016)]\n",
        "melt_df = pd.melt(clean_df, id_vars=['Country', 'Trade flow', 'Commodity'], value_vars=year_cols, var_name='Year', value_name='Quantity')\n",
        "\n",
        "# Clean data types\n",
        "melt_df['Year'] = melt_df['Year'].astype(int)\n",
        "melt_df['Quantity'] = pd.to_numeric(melt_df['Quantity'], errors='coerce')\n",
        "melt_df.dropna(subset=['Quantity'], inplace=True)"
      ],
      "metadata": {
        "colab": {
          "base_uri": "https://localhost:8080/"
        },
        "id": "CigwRQ89g9qi",
        "outputId": "bc34d421-5a4e-483c-efe6-732107ae2a64"
      },
      "execution_count": 111,
      "outputs": [
        {
          "output_type": "stream",
          "name": "stderr",
          "text": [
            "/tmp/ipython-input-111-3091292538.py:10: SettingWithCopyWarning: \n",
            "A value is trying to be set on a copy of a slice from a DataFrame\n",
            "\n",
            "See the caveats in the documentation: https://pandas.pydata.org/pandas-docs/stable/user_guide/indexing.html#returning-a-view-versus-a-copy\n",
            "  clean_df.rename(columns={'Land Area': 'Country'}, inplace=True)\n"
          ]
        }
      ]
    },
    {
      "cell_type": "markdown",
      "source": [
        "Restructure for Multi-Output"
      ],
      "metadata": {
        "id": "Row_niWqhGte"
      }
    },
    {
      "cell_type": "code",
      "source": [
        "# Aggregate and pivot\n",
        "grouped = melt_df.groupby(['Country', 'Year', 'Trade flow'])['Quantity'].sum().reset_index()\n",
        "pivot_df = grouped.pivot(index=['Country', 'Year'], columns='Trade flow', values='Quantity').reset_index()\n",
        "pivot_df.fillna(0, inplace=True)  # Fill missing trade values with 0"
      ],
      "metadata": {
        "id": "bRlWvJZIhHVJ"
      },
      "execution_count": 112,
      "outputs": []
    },
    {
      "cell_type": "markdown",
      "source": [
        "Encode & Split Data"
      ],
      "metadata": {
        "id": "qdZZftpDhI9R"
      }
    },
    {
      "cell_type": "code",
      "source": [
        "from sklearn.preprocessing import LabelEncoder\n",
        "from sklearn.model_selection import train_test_split\n",
        "\n",
        "le = LabelEncoder()\n",
        "pivot_df['Encoded_Country'] = le.fit_transform(pivot_df['Country'])\n",
        "\n",
        "X = pivot_df[['Encoded_Country', 'Year']]\n",
        "y = pivot_df[['Import', 'Export']]\n",
        "\n",
        "X_train, X_test, y_train, y_test = train_test_split(X, y, test_size=0.2, random_state=42)"
      ],
      "metadata": {
        "id": "xQe_1ESShK8E"
      },
      "execution_count": 113,
      "outputs": []
    },
    {
      "cell_type": "markdown",
      "source": [
        "Feature Scaling"
      ],
      "metadata": {
        "id": "zLEDgVqDhMtu"
      }
    },
    {
      "cell_type": "code",
      "source": [
        "from sklearn.preprocessing import StandardScaler\n",
        "\n",
        "scaler = StandardScaler()\n",
        "X_train_scaled = scaler.fit_transform(X_train)\n",
        "X_test_scaled = scaler.transform(X_test)"
      ],
      "metadata": {
        "id": "Kk3ZGkBbhOhM"
      },
      "execution_count": 114,
      "outputs": []
    },
    {
      "cell_type": "markdown",
      "source": [
        "Train & Evaluate Models"
      ],
      "metadata": {
        "id": "HXJlXlgBhPxq"
      }
    },
    {
      "cell_type": "code",
      "source": [
        "from sklearn.linear_model import LinearRegression\n",
        "from sklearn.ensemble import RandomForestRegressor\n",
        "from sklearn.tree import DecisionTreeRegressor\n",
        "from sklearn.multioutput import MultiOutputRegressor\n",
        "from sklearn.metrics import mean_squared_error, mean_absolute_error\n",
        "import numpy as np\n",
        "\n",
        "# Linear Regression\n",
        "lr = MultiOutputRegressor(LinearRegression())\n",
        "lr.fit(X_train_scaled, y_train)\n",
        "\n",
        "# Decision Tree\n",
        "dt = MultiOutputRegressor(DecisionTreeRegressor(random_state=42))\n",
        "dt.fit(X_train_scaled, y_train)\n",
        "\n",
        "# Random Forest\n",
        "rf = MultiOutputRegressor(RandomForestRegressor(random_state=42))\n",
        "rf.fit(X_train_scaled, y_train)\n",
        "\n",
        "# Evaluation\n",
        "models = {'Linear Regression': lr, 'Decision Tree': dt, 'Random Forest': rf}\n",
        "for name, model in models.items():\n",
        "    y_pred = model.predict(X_test_scaled)\n",
        "    print(f\"\\n{name}\")\n",
        "    print(\"MAE:\", mean_absolute_error(y_test, y_pred))\n",
        "    print(\"RMSE:\", np.sqrt(mean_squared_error(y_test, y_pred)))"
      ],
      "metadata": {
        "colab": {
          "base_uri": "https://localhost:8080/"
        },
        "id": "Ae4HdjQzhSD8",
        "outputId": "2f96518c-5b33-45fc-c4e9-6eff928ac95c"
      },
      "execution_count": 115,
      "outputs": [
        {
          "output_type": "stream",
          "name": "stdout",
          "text": [
            "\n",
            "Linear Regression\n",
            "MAE: 47975.509784918024\n",
            "RMSE: 91302.8847525799\n",
            "\n",
            "Decision Tree\n",
            "MAE: 6913.983606557376\n",
            "RMSE: 25130.424566680907\n",
            "\n",
            "Random Forest\n",
            "MAE: 6597.288333333333\n",
            "RMSE: 20638.358557926207\n"
          ]
        }
      ]
    },
    {
      "cell_type": "markdown",
      "source": [
        "Save Best Model"
      ],
      "metadata": {
        "id": "Z1vLuY0EhT0A"
      }
    },
    {
      "cell_type": "code",
      "source": [
        "import joblib\n",
        "\n",
        "# Save best performing model and scaler\n",
        "# joblib.dump(rf, 'API/best_model.joblib')\n",
        "joblib.dump(rf, 'best_model.joblib')\n",
        "# joblib.dump(scaler, 'API/scaler.joblib')\n",
        "joblib.dump(scaler, 'scaler.joblib')\n",
        "# joblib.dump(le, 'API/label_encoder.joblib')\n",
        "joblib.dump(le, 'label_encoder.joblib')"
      ],
      "metadata": {
        "colab": {
          "base_uri": "https://localhost:8080/"
        },
        "id": "Ba8ZintuhWNT",
        "outputId": "4ccf5155-a281-4162-8d61-22b2a17b93b6"
      },
      "execution_count": 116,
      "outputs": [
        {
          "output_type": "execute_result",
          "data": {
            "text/plain": [
              "['label_encoder.joblib']"
            ]
          },
          "metadata": {},
          "execution_count": 116
        }
      ]
    },
    {
      "cell_type": "markdown",
      "source": [
        "Define Prediction Function"
      ],
      "metadata": {
        "id": "DWbDXHGFhXhy"
      }
    },
    {
      "cell_type": "code",
      "source": [
        "# helper function to use in API\n",
        "import numpy as np\n",
        "\n",
        "def predict_trade_volumes(model, scaler, encoder, country: str, year: int):\n",
        "    encoded_country = encoder.transform([country])[0]\n",
        "    input_scaled = scaler.transform([[encoded_country, year]])\n",
        "    prediction = model.predict(input_scaled)\n",
        "    return prediction[0].tolist()"
      ],
      "metadata": {
        "id": "hatnox4ehZQR"
      },
      "execution_count": 117,
      "outputs": []
    }
  ]
}